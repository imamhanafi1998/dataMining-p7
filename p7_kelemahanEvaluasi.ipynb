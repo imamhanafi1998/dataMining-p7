{
  "nbformat": 4,
  "nbformat_minor": 0,
  "metadata": {
    "colab": {
      "name": "p7-kelemahanEvaluasi.ipynb",
      "provenance": []
    },
    "kernelspec": {
      "name": "python3",
      "display_name": "Python 3"
    }
  },
  "cells": [
    {
      "cell_type": "code",
      "metadata": {
        "id": "ZAVzfE57TXZu"
      },
      "source": [
        "%matplotlib inline\n",
        "import numpy as np\n",
        "import scipy as sp\n",
        "import matplotlib as mpl\n",
        "import matplotlib.cm as cm\n",
        "import matplotlib.pyplot as plt\n",
        "import pandas as pd\n",
        "from pandas.plotting import scatter_matrix\n",
        "pd.set_option('display.width', 500)\n",
        "pd.set_option('display.max_columns', 100)\n",
        "pd.set_option('display.notebook_repr_html', True)\n",
        "import seaborn as sns\n",
        "sns.set(style='whitegrid')\n",
        "from sklearn.tree import DecisionTreeClassifier\n",
        "from sklearn.naive_bayes import GaussianNB\n",
        "from sklearn.discriminant_analysis import LinearDiscriminantAnalysis as LDA\n",
        "from sklearn import metrics\n",
        "from sklearn.model_selection import train_test_split\n",
        "from sklearn.model_selection import cross_val_score, cross_val_predict\n",
        "from sklearn.neighbors import KNeighborsClassifier\n",
        "from sklearn.metrics import classification_report, confusion_matrix, recall_score, precision_score, accuracy_score"
      ],
      "execution_count": 39,
      "outputs": []
    },
    {
      "cell_type": "code",
      "metadata": {
        "id": "Dt4_ibEmUzDQ"
      },
      "source": [
        "data = pd.read_csv('/content/p5F.csv')\n",
        "del data['Unnamed: 0']"
      ],
      "execution_count": 2,
      "outputs": []
    },
    {
      "cell_type": "code",
      "metadata": {
        "id": "VCnVJOFVihFH",
        "outputId": "290dd822-4608-46e8-feb2-62c5d0f26b6f",
        "colab": {
          "base_uri": "https://localhost:8080/"
        }
      },
      "source": [
        "data.isnull().sum()"
      ],
      "execution_count": 3,
      "outputs": [
        {
          "output_type": "execute_result",
          "data": {
            "text/plain": [
              "PassengerId      0\n",
              "Survived         0\n",
              "Pclass           0\n",
              "Sex              0\n",
              "SibSp            0\n",
              "Parch            0\n",
              "Fare             0\n",
              "Embarked         0\n",
              "Title            0\n",
              "PassengerType    0\n",
              "dtype: int64"
            ]
          },
          "metadata": {
            "tags": []
          },
          "execution_count": 3
        }
      ]
    },
    {
      "cell_type": "code",
      "metadata": {
        "id": "9fhf9MpbX-37",
        "outputId": "47336d76-32b4-4840-ebd9-ace154ec9c20",
        "colab": {
          "base_uri": "https://localhost:8080/",
          "height": 321
        }
      },
      "source": [
        "data['Survived'].value_counts().plot(kind='bar')\n",
        "data['Survived'].value_counts()"
      ],
      "execution_count": 4,
      "outputs": [
        {
          "output_type": "execute_result",
          "data": {
            "text/plain": [
              "0    548\n",
              "1    339\n",
              "Name: Survived, dtype: int64"
            ]
          },
          "metadata": {
            "tags": []
          },
          "execution_count": 4
        },
        {
          "output_type": "display_data",
          "data": {
            "image/png": "[encoded data removed]",
            "text/plain": [
              "<Figure size 432x288 with 1 Axes>"
            ]
          },
          "metadata": {
            "tags": [],
            "needs_background": "light"
          }
        }
      ]
    },
    {
      "cell_type": "markdown",
      "metadata": {
        "id": "3ysfZzsbeROJ"
      },
      "source": [
        "**BALANCED**"
      ]
    },
    {
      "cell_type": "code",
      "metadata": {
        "id": "gWii9q1YU0Gv",
        "outputId": "c7df2d89-38b2-4ca6-d169-f6805c45b5c4",
        "colab": {
          "base_uri": "https://localhost:8080/",
          "height": 311
        }
      },
      "source": [
        "data.describe()"
      ],
      "execution_count": 5,
      "outputs": [
        {
          "output_type": "execute_result",
          "data": {
            "text/html": [
              "<div>\n",
              "<style scoped>\n",
              "    .dataframe tbody tr th:only-of-type {\n",
              "        vertical-align: middle;\n",
              "    }\n",
              "\n",
              "    .dataframe tbody tr th {\n",
              "        vertical-align: top;\n",
              "    }\n",
              "\n",
              "    .dataframe thead th {\n",
              "        text-align: right;\n",
              "    }\n",
              "</style>\n",
              "<table border=\"1\" class=\"dataframe\">\n",
              "  <thead>\n",
              "    <tr style=\"text-align: right;\">\n",
              "      <th></th>\n",
              "      <th>PassengerId</th>\n",
              "      <th>Survived</th>\n",
              "      <th>Pclass</th>\n",
              "      <th>Sex</th>\n",
              "      <th>SibSp</th>\n",
              "      <th>Parch</th>\n",
              "      <th>Fare</th>\n",
              "      <th>Embarked</th>\n",
              "      <th>Title</th>\n",
              "      <th>PassengerType</th>\n",
              "    </tr>\n",
              "  </thead>\n",
              "  <tbody>\n",
              "    <tr>\n",
              "      <th>count</th>\n",
              "      <td>887.000000</td>\n",
              "      <td>887.000000</td>\n",
              "      <td>887.000000</td>\n",
              "      <td>887.000000</td>\n",
              "      <td>887.000000</td>\n",
              "      <td>887.000000</td>\n",
              "      <td>887.000000</td>\n",
              "      <td>887.000000</td>\n",
              "      <td>887.000000</td>\n",
              "      <td>887.000000</td>\n",
              "    </tr>\n",
              "    <tr>\n",
              "      <th>mean</th>\n",
              "      <td>445.220970</td>\n",
              "      <td>0.382187</td>\n",
              "      <td>2.314543</td>\n",
              "      <td>0.649380</td>\n",
              "      <td>0.525366</td>\n",
              "      <td>0.383315</td>\n",
              "      <td>32.071532</td>\n",
              "      <td>1.363021</td>\n",
              "      <td>1.103720</td>\n",
              "      <td>3.697858</td>\n",
              "    </tr>\n",
              "    <tr>\n",
              "      <th>std</th>\n",
              "      <td>256.758344</td>\n",
              "      <td>0.486196</td>\n",
              "      <td>0.833309</td>\n",
              "      <td>0.477433</td>\n",
              "      <td>1.104669</td>\n",
              "      <td>0.807466</td>\n",
              "      <td>49.708282</td>\n",
              "      <td>0.636642</td>\n",
              "      <td>0.430834</td>\n",
              "      <td>0.745964</td>\n",
              "    </tr>\n",
              "    <tr>\n",
              "      <th>min</th>\n",
              "      <td>1.000000</td>\n",
              "      <td>0.000000</td>\n",
              "      <td>1.000000</td>\n",
              "      <td>0.000000</td>\n",
              "      <td>0.000000</td>\n",
              "      <td>0.000000</td>\n",
              "      <td>0.000000</td>\n",
              "      <td>1.000000</td>\n",
              "      <td>1.000000</td>\n",
              "      <td>0.000000</td>\n",
              "    </tr>\n",
              "    <tr>\n",
              "      <th>25%</th>\n",
              "      <td>223.500000</td>\n",
              "      <td>0.000000</td>\n",
              "      <td>2.000000</td>\n",
              "      <td>0.000000</td>\n",
              "      <td>0.000000</td>\n",
              "      <td>0.000000</td>\n",
              "      <td>7.910400</td>\n",
              "      <td>1.000000</td>\n",
              "      <td>1.000000</td>\n",
              "      <td>4.000000</td>\n",
              "    </tr>\n",
              "    <tr>\n",
              "      <th>50%</th>\n",
              "      <td>445.000000</td>\n",
              "      <td>0.000000</td>\n",
              "      <td>3.000000</td>\n",
              "      <td>1.000000</td>\n",
              "      <td>0.000000</td>\n",
              "      <td>0.000000</td>\n",
              "      <td>14.454200</td>\n",
              "      <td>1.000000</td>\n",
              "      <td>1.000000</td>\n",
              "      <td>4.000000</td>\n",
              "    </tr>\n",
              "    <tr>\n",
              "      <th>75%</th>\n",
              "      <td>666.500000</td>\n",
              "      <td>1.000000</td>\n",
              "      <td>3.000000</td>\n",
              "      <td>1.000000</td>\n",
              "      <td>1.000000</td>\n",
              "      <td>0.000000</td>\n",
              "      <td>30.847900</td>\n",
              "      <td>2.000000</td>\n",
              "      <td>1.000000</td>\n",
              "      <td>4.000000</td>\n",
              "    </tr>\n",
              "    <tr>\n",
              "      <th>max</th>\n",
              "      <td>891.000000</td>\n",
              "      <td>1.000000</td>\n",
              "      <td>3.000000</td>\n",
              "      <td>1.000000</td>\n",
              "      <td>8.000000</td>\n",
              "      <td>6.000000</td>\n",
              "      <td>512.329200</td>\n",
              "      <td>3.000000</td>\n",
              "      <td>4.000000</td>\n",
              "      <td>5.000000</td>\n",
              "    </tr>\n",
              "  </tbody>\n",
              "</table>\n",
              "</div>"
            ],
            "text/plain": [
              "       PassengerId    Survived      Pclass         Sex       SibSp       Parch        Fare    Embarked       Title  PassengerType\n",
              "count   887.000000  887.000000  887.000000  887.000000  887.000000  887.000000  887.000000  887.000000  887.000000     887.000000\n",
              "mean    445.220970    0.382187    2.314543    0.649380    0.525366    0.383315   32.071532    1.363021    1.103720       3.697858\n",
              "std     256.758344    0.486196    0.833309    0.477433    1.104669    0.807466   49.708282    0.636642    0.430834       0.745964\n",
              "min       1.000000    0.000000    1.000000    0.000000    0.000000    0.000000    0.000000    1.000000    1.000000       0.000000\n",
              "25%     223.500000    0.000000    2.000000    0.000000    0.000000    0.000000    7.910400    1.000000    1.000000       4.000000\n",
              "50%     445.000000    0.000000    3.000000    1.000000    0.000000    0.000000   14.454200    1.000000    1.000000       4.000000\n",
              "75%     666.500000    1.000000    3.000000    1.000000    1.000000    0.000000   30.847900    2.000000    1.000000       4.000000\n",
              "max     891.000000    1.000000    3.000000    1.000000    8.000000    6.000000  512.329200    3.000000    4.000000       5.000000"
            ]
          },
          "metadata": {
            "tags": []
          },
          "execution_count": 5
        }
      ]
    },
    {
      "cell_type": "code",
      "metadata": {
        "id": "6Euj7z3ts1pp"
      },
      "source": [
        "xdata = data.drop('Survived', axis = 1)\n",
        "ydata = data.Survived"
      ],
      "execution_count": 9,
      "outputs": []
    },
    {
      "cell_type": "code",
      "metadata": {
        "id": "HFdocq06t42w"
      },
      "source": [
        "# define algorithm\n",
        "clf = DecisionTreeClassifier()\n",
        "gnb = GaussianNB()\n",
        "lda = LDA()\n",
        "KNN = KNeighborsClassifier()"
      ],
      "execution_count": 18,
      "outputs": []
    },
    {
      "cell_type": "markdown",
      "metadata": {
        "id": "JarTv8Gwtyo4"
      },
      "source": [
        "holdout starts. define target/class column"
      ]
    },
    {
      "cell_type": "code",
      "metadata": {
        "id": "ISKbTPW1av0p"
      },
      "source": [
        "xtrain, xtest, ytrain, ytest, = train_test_split(xdata, ydata, test_size = 0.3, random_state = 1)"
      ],
      "execution_count": 10,
      "outputs": []
    },
    {
      "cell_type": "code",
      "metadata": {
        "id": "MgdFzbskuY6R"
      },
      "source": [
        "CLF_pred = clf.fit(xtrain, ytrain).predict(xtest)\n",
        "GNB_pred = gnb.fit(xtrain, ytrain).predict(xtest)\n",
        "LDA_pred = lda.fit(xtrain, ytrain).predict(xtest)\n",
        "KNN_pred = KNN.fit(xtrain, ytrain).predict(xtest)"
      ],
      "execution_count": 11,
      "outputs": []
    },
    {
      "cell_type": "markdown",
      "metadata": {
        "id": "OYs09yWH1ATG"
      },
      "source": [
        "**holdout starts**"
      ]
    },
    {
      "cell_type": "code",
      "metadata": {
        "id": "QuBeZ1AOqkpp",
        "outputId": "b87d0022-22a6-4d16-ccd0-f5c1e0857891",
        "colab": {
          "base_uri": "https://localhost:8080/"
        }
      },
      "source": [
        "#menggunakan akurasi\n",
        "print(\"CLF\")\n",
        "ypredclf = clf.fit(xtrain, ytrain).predict(xtest)\n",
        "print(\"Akurasi CLF Tree : \", metrics.accuracy_score(ytest, ypredclf)*100)\n",
        "\n",
        "print(\"\\nGaussianNaiveBeyes\")\n",
        "ypredgnb = gnb.fit(xtrain, ytrain).predict(xtest)\n",
        "print(\"Akurasi Gaussian Naive Beyes : \", metrics.accuracy_score(ytest, ypredgnb)*100)\n",
        "\n",
        "print(\"\\nLDA\")\n",
        "lda = lda.fit(xtrain, ytrain)\n",
        "ypredlda = lda.fit(xtrain, ytrain).predict(xtest)\n",
        "print(\"Akurasi LDA Tree : \", metrics.accuracy_score(ytest, ypredlda)*100)\n",
        "\n",
        "print(\"\\nKNN\")\n",
        "ypredknn = KNN.fit(xtrain, ytrain).predict(xtest)\n",
        "print(\"Akurasi KNN Tree : \", metrics.accuracy_score(ytest, ypredknn)*100)"
      ],
      "execution_count": 21,
      "outputs": [
        {
          "output_type": "stream",
          "text": [
            "CLF\n",
            "Akurasi CLF Tree :  73.03370786516854\n",
            "\n",
            "GaussianNaiveBeyes\n",
            "Akurasi Gaussian Naive Beyes :  81.27340823970037\n",
            "\n",
            "LDA\n",
            "Akurasi LDA Tree :  83.52059925093633\n",
            "\n",
            "KNN\n",
            "Akurasi KNN Tree :  64.7940074906367\n"
          ],
          "name": "stdout"
        }
      ]
    },
    {
      "cell_type": "code",
      "metadata": {
        "id": "vBPw1b00vRjb",
        "outputId": "52ebdf17-eb79-44fb-9c57-53aa571bfbed",
        "colab": {
          "base_uri": "https://localhost:8080/"
        }
      },
      "source": [
        "#Confussion Matrix\n",
        "print(\"CLF\")\n",
        "print(pd.crosstab(ytest, CLF_pred, rownames = ['Actual'], colnames = ['Predicted'], margins = True))\n",
        "print(\"\")\n",
        "print(\"GNB\")\n",
        "print(pd.crosstab(ytest, GNB_pred, rownames = ['Actual'], colnames = ['Predicted'], margins = True))\n",
        "print(\"\")\n",
        "print(\"LDA\")\n",
        "print(pd.crosstab(ytest, LDA_pred, rownames = ['Actual'], colnames = ['Predicted'], margins = True))\n",
        "print(\"\")\n",
        "print(\"KNN\")\n",
        "print(pd.crosstab(ytest, KNN_pred, rownames = ['Actual'], colnames = ['Predicted'], margins = True))"
      ],
      "execution_count": 22,
      "outputs": [
        {
          "output_type": "stream",
          "text": [
            "CLF\n",
            "Predicted    0    1  All\n",
            "Actual                  \n",
            "0          129   41  170\n",
            "1           31   66   97\n",
            "All        160  107  267\n",
            "\n",
            "GNB\n",
            "Predicted    0   1  All\n",
            "Actual                 \n",
            "0          147  23  170\n",
            "1           27  70   97\n",
            "All        174  93  267\n",
            "\n",
            "LDA\n",
            "Predicted    0   1  All\n",
            "Actual                 \n",
            "0          149  21  170\n",
            "1           23  74   97\n",
            "All        172  95  267\n",
            "\n",
            "KNN\n",
            "Predicted    0   1  All\n",
            "Actual                 \n",
            "0          134  36  170\n",
            "1           58  39   97\n",
            "All        192  75  267\n"
          ],
          "name": "stdout"
        }
      ]
    },
    {
      "cell_type": "code",
      "metadata": {
        "id": "KgiPurI8rvyq",
        "outputId": "986a5977-6aa5-4334-f437-9e829476e3e8",
        "colab": {
          "base_uri": "https://localhost:8080/"
        }
      },
      "source": [
        "print(\"CLF\")\n",
        "print(classification_report(ytest, CLF_pred))\n",
        "print(\"\\nGNB\")\n",
        "print(classification_report(ytest, GNB_pred))\n",
        "print(\"\\nLDA\")\n",
        "print(classification_report(ytest, LDA_pred))\n",
        "print(\"\\nKNN\")\n",
        "print(classification_report(ytest, KNN_pred))"
      ],
      "execution_count": 30,
      "outputs": [
        {
          "output_type": "stream",
          "text": [
            "CLF\n",
            "              precision    recall  f1-score   support\n",
            "\n",
            "           0       0.81      0.76      0.78       170\n",
            "           1       0.62      0.68      0.65        97\n",
            "\n",
            "    accuracy                           0.73       267\n",
            "   macro avg       0.71      0.72      0.71       267\n",
            "weighted avg       0.74      0.73      0.73       267\n",
            "\n",
            "\n",
            "GNB\n",
            "              precision    recall  f1-score   support\n",
            "\n",
            "           0       0.84      0.86      0.85       170\n",
            "           1       0.75      0.72      0.74        97\n",
            "\n",
            "    accuracy                           0.81       267\n",
            "   macro avg       0.80      0.79      0.80       267\n",
            "weighted avg       0.81      0.81      0.81       267\n",
            "\n",
            "\n",
            "LDA\n",
            "              precision    recall  f1-score   support\n",
            "\n",
            "           0       0.87      0.88      0.87       170\n",
            "           1       0.78      0.76      0.77        97\n",
            "\n",
            "    accuracy                           0.84       267\n",
            "   macro avg       0.82      0.82      0.82       267\n",
            "weighted avg       0.83      0.84      0.83       267\n",
            "\n",
            "\n",
            "KNN\n",
            "              precision    recall  f1-score   support\n",
            "\n",
            "           0       0.70      0.79      0.74       170\n",
            "           1       0.52      0.40      0.45        97\n",
            "\n",
            "    accuracy                           0.65       267\n",
            "   macro avg       0.61      0.60      0.60       267\n",
            "weighted avg       0.63      0.65      0.64       267\n",
            "\n"
          ],
          "name": "stdout"
        }
      ]
    },
    {
      "cell_type": "code",
      "metadata": {
        "id": "zGY3Hy8qsqLf",
        "outputId": "7c4b2a41-448c-4ef0-a060-d2e56ab97e27",
        "colab": {
          "base_uri": "https://localhost:8080/"
        }
      },
      "source": [
        "print(\"CLF\")\n",
        "print(\"accuracy: \", accuracy_score(ytest, CLF_pred))\n",
        "print(\"precision: \", precision_score(ytest, CLF_pred))\n",
        "print(\"recall: \", recall_score(ytest, CLF_pred))\n",
        "print(\"\\nGNB\")\n",
        "print(\"accuracy: \", accuracy_score(ytest, GNB_pred))\n",
        "print(\"precision: \", precision_score(ytest, GNB_pred))\n",
        "print(\"recall: \", recall_score(ytest, GNB_pred))\n",
        "print(\"\\nLDA\")\n",
        "print(\"accuracy: \", accuracy_score(ytest, LDA_pred))\n",
        "print(\"precision: \", precision_score(ytest, LDA_pred))\n",
        "print(\"recall: \", recall_score(ytest, LDA_pred))\n",
        "print(\"\\nKNN\")\n",
        "print(\"accuracy: \", accuracy_score(ytest, KNN_pred))\n",
        "print(\"precision: \", precision_score(ytest, KNN_pred))\n",
        "print(\"recall: \", recall_score(ytest, KNN_pred))"
      ],
      "execution_count": 40,
      "outputs": [
        {
          "output_type": "stream",
          "text": [
            "CLF\n",
            "accuracy:  0.7303370786516854\n",
            "precision:  0.616822429906542\n",
            "recall:  0.6804123711340206\n",
            "\n",
            "GNB\n",
            "accuracy:  0.8127340823970037\n",
            "precision:  0.7526881720430108\n",
            "recall:  0.7216494845360825\n",
            "\n",
            "LDA\n",
            "accuracy:  0.8352059925093633\n",
            "precision:  0.7789473684210526\n",
            "recall:  0.7628865979381443\n",
            "\n",
            "KNN\n",
            "accuracy:  0.6479400749063671\n",
            "precision:  0.52\n",
            "recall:  0.4020618556701031\n"
          ],
          "name": "stdout"
        }
      ]
    },
    {
      "cell_type": "markdown",
      "metadata": {
        "id": "aODrh5vJ0rPr"
      },
      "source": [
        "**holdout ends, cross-val (k-fold) starts**"
      ]
    },
    {
      "cell_type": "code",
      "metadata": {
        "id": "Mo8KfOwIwUFX",
        "outputId": "eaf1ce7f-291c-490d-f6ba-3cd5caf24c61",
        "colab": {
          "base_uri": "https://localhost:8080/"
        }
      },
      "source": [
        "#CLF\n",
        "print(\"CLF\")\n",
        "scores_accuracy_clf = cross_val_score(clf, xdata, ydata, cv=10, scoring='accuracy')\n",
        "print(\"Rata-rata nilai akurasi: %0.2f (+/- %0.2f)\" % (scores_accuracy_clf.mean(), scores_accuracy_clf.std()))\n",
        "\n",
        "scores_precision_clf = cross_val_score(clf, xdata, ydata, cv=10, scoring='precision_macro')\n",
        "print(\"Rata-rata nilai precision macro: %0.2f (+/- %0.2f)\" % (scores_precision_clf.mean(), scores_precision_clf.std()))\n",
        "\n",
        "scores_recall_clf = cross_val_score(clf, xdata, ydata, cv=10, scoring='recall_macro')\n",
        "print(\"Rata-rata nilai recall macro: %0.2f (+/- %0.2f)\" % (scores_recall_clf.mean(), scores_recall_clf.std()))\n",
        "\n",
        "scores_f1_clf = cross_val_score(clf, xdata, ydata, cv=10, scoring='f1_macro')\n",
        "print(\"Rata-rata nilai f1 macro: %0.2f (+/- %0.2f)\" % (scores_f1_clf.mean(), scores_f1_clf.std()))\n",
        "\n",
        "#GNB\n",
        "print(\"\\nGNB\")\n",
        "scores_accuracy_gnb = cross_val_score(gnb, xdata, ydata, cv=10, scoring='accuracy')\n",
        "print(\"Rata-rata nilai akurasi: %0.2f (+/- %0.2f)\" % (scores_accuracy_gnb.mean(), scores_accuracy_gnb.std()))\n",
        "\n",
        "scores_precision_gnb = cross_val_score(gnb, xdata, ydata, cv=10, scoring='precision_macro')\n",
        "print(\"Rata-rata nilai precision macro: %0.2f (+/- %0.2f)\" % (scores_precision_gnb.mean(), scores_precision_gnb.std()))\n",
        "\n",
        "scores_recall_gnb = cross_val_score(gnb, xdata, ydata, cv=10, scoring='recall_macro')\n",
        "print(\"Rata-rata nilai recall macro: %0.2f (+/- %0.2f)\" % (scores_recall_gnb.mean(), scores_recall_gnb.std()))\n",
        "\n",
        "scores_f1_gnb = cross_val_score(gnb, xdata, ydata, cv=10, scoring='f1_macro')\n",
        "print(\"Rata-rata nilai f1 macro: %0.2f (+/- %0.2f)\" % (scores_f1_gnb.mean(), scores_f1_gnb.std()))\n",
        "\n",
        "#LDA\n",
        "print(\"\\nLDA\")\n",
        "scores_accuracy_lda = cross_val_score(lda, xdata, ydata, cv=10, scoring='accuracy')\n",
        "print(\"Rata-rata nilai akurasi: %0.2f (+/- %0.2f)\" % (scores_accuracy_lda.mean(), scores_accuracy_lda.std()))\n",
        "\n",
        "scores_precision_lda = cross_val_score(lda, xdata, ydata, cv=10, scoring='precision_macro')\n",
        "print(\"Rata-rata nilai precision macro: %0.2f (+/- %0.2f)\" % (scores_precision_lda.mean(), scores_precision_lda.std()))\n",
        "\n",
        "scores_recall_lda = cross_val_score(lda, xdata, ydata, cv=10, scoring='recall_macro')\n",
        "print(\"Rata-rata nilai recall macro: %0.2f (+/- %0.2f)\" % (scores_recall_lda.mean(), scores_recall_lda.std()))\n",
        "\n",
        "scores_f1_lda = cross_val_score(lda, xdata, ydata, cv=10, scoring='f1_macro')\n",
        "print(\"Rata-rata nilai f1 macro: %0.2f (+/- %0.2f)\" % (scores_f1_lda.mean(), scores_f1_lda.std()))\n",
        "\n",
        "#KNN\n",
        "print(\"\\nKNN\")\n",
        "scores_accuracy_KNN = cross_val_score(KNN, xdata, ydata, cv=10, scoring='accuracy')\n",
        "print(\"Rata-rata nilai akurasi: %0.2f (+/- %0.2f)\" % (scores_accuracy_KNN.mean(), scores_accuracy_KNN.std()))\n",
        "\n",
        "scores_precision_KNN = cross_val_score(KNN, xdata, ydata, cv=10, scoring='precision_macro')\n",
        "print(\"Rata-rata nilai precision macro: %0.2f (+/- %0.2f)\" % (scores_precision_KNN.mean(), scores_precision_KNN.std()))\n",
        "\n",
        "scores_recall_KNN = cross_val_score(KNN, xdata, ydata, cv=10, scoring='recall_macro')\n",
        "print(\"Rata-rata nilai recall macro: %0.2f (+/- %0.2f)\" % (scores_recall_KNN.mean(), scores_recall_KNN.std()))\n",
        "\n",
        "scores_f1_KNN = cross_val_score(KNN, xdata, ydata, cv=10, scoring='f1_macro')\n",
        "print(\"Rata-rata nilai f1 macro: %0.2f (+/- %0.2f)\" % (scores_f1_KNN.mean(), scores_f1_KNN.std()))"
      ],
      "execution_count": 14,
      "outputs": [
        {
          "output_type": "stream",
          "text": [
            "CLF\n",
            "Rata-rata nilai akurasi: 0.73 (+/- 0.08)\n",
            "Rata-rata nilai precision macro: 0.72 (+/- 0.07)\n",
            "Rata-rata nilai recall macro: 0.71 (+/- 0.08)\n",
            "Rata-rata nilai f1 macro: 0.70 (+/- 0.08)\n",
            "\n",
            "GNB\n",
            "Rata-rata nilai akurasi: 0.80 (+/- 0.02)\n",
            "Rata-rata nilai precision macro: 0.79 (+/- 0.03)\n",
            "Rata-rata nilai recall macro: 0.79 (+/- 0.03)\n",
            "Rata-rata nilai f1 macro: 0.79 (+/- 0.03)\n",
            "\n",
            "LDA\n",
            "Rata-rata nilai akurasi: 0.80 (+/- 0.03)\n",
            "Rata-rata nilai precision macro: 0.79 (+/- 0.03)\n",
            "Rata-rata nilai recall macro: 0.78 (+/- 0.03)\n",
            "Rata-rata nilai f1 macro: 0.79 (+/- 0.03)\n",
            "\n",
            "KNN\n",
            "Rata-rata nilai akurasi: 0.49 (+/- 0.07)\n",
            "Rata-rata nilai precision macro: 0.53 (+/- 0.11)\n",
            "Rata-rata nilai recall macro: 0.49 (+/- 0.03)\n",
            "Rata-rata nilai f1 macro: 0.45 (+/- 0.03)\n"
          ],
          "name": "stdout"
        }
      ]
    },
    {
      "cell_type": "code",
      "metadata": {
        "id": "7NWBgMyJi0c2",
        "outputId": "8f273467-adaf-4357-f6ef-8a7233f8609d",
        "colab": {
          "base_uri": "https://localhost:8080/"
        }
      },
      "source": [
        "#CLF\n",
        "print(\"CLF\")\n",
        "scores_accuracy_clf = cross_val_score(clf, xdata, ydata, cv=5, scoring='accuracy')\n",
        "print(\"Rata-rata nilai akurasi: %0.2f (+/- %0.2f)\" % (scores_accuracy_clf.mean(), scores_accuracy_clf.std()))\n",
        "\n",
        "scores_precision_clf = cross_val_score(clf, xdata, ydata, cv=5, scoring='precision_macro')\n",
        "print(\"Rata-rata nilai precision macro: %0.2f (+/- %0.2f)\" % (scores_precision_clf.mean(), scores_precision_clf.std()))\n",
        "\n",
        "scores_recall_clf = cross_val_score(clf, xdata, ydata, cv=5, scoring='recall_macro')\n",
        "print(\"Rata-rata nilai recall macro: %0.2f (+/- %0.2f)\" % (scores_recall_clf.mean(), scores_recall_clf.std()))\n",
        "\n",
        "scores_f1_clf = cross_val_score(clf, xdata, ydata, cv=5, scoring='f1_macro')\n",
        "print(\"Rata-rata nilai f1 macro: %0.2f (+/- %0.2f)\" % (scores_f1_clf.mean(), scores_f1_clf.std()))\n",
        "\n",
        "#GNB\n",
        "print(\"\\nGNB\")\n",
        "scores_accuracy_gnb = cross_val_score(gnb, xdata, ydata, cv=5, scoring='accuracy')\n",
        "print(\"Rata-rata nilai akurasi: %0.2f (+/- %0.2f)\" % (scores_accuracy_gnb.mean(), scores_accuracy_gnb.std()))\n",
        "\n",
        "scores_precision_gnb = cross_val_score(gnb, xdata, ydata, cv=5, scoring='precision_macro')\n",
        "print(\"Rata-rata nilai precision macro: %0.2f (+/- %0.2f)\" % (scores_precision_gnb.mean(), scores_precision_gnb.std()))\n",
        "\n",
        "scores_recall_gnb = cross_val_score(gnb, xdata, ydata, cv=5, scoring='recall_macro')\n",
        "print(\"Rata-rata nilai recall macro: %0.2f (+/- %0.2f)\" % (scores_recall_gnb.mean(), scores_recall_gnb.std()))\n",
        "\n",
        "scores_f1_gnb = cross_val_score(gnb, xdata, ydata, cv=5, scoring='f1_macro')\n",
        "print(\"Rata-rata nilai f1 macro: %0.2f (+/- %0.2f)\" % (scores_f1_gnb.mean(), scores_f1_gnb.std()))\n",
        "\n",
        "#LDA\n",
        "print(\"\\nLDA\")\n",
        "scores_accuracy_lda = cross_val_score(lda, xdata, ydata, cv=5, scoring='accuracy')\n",
        "print(\"Rata-rata nilai akurasi: %0.2f (+/- %0.2f)\" % (scores_accuracy_lda.mean(), scores_accuracy_lda.std()))\n",
        "\n",
        "scores_precision_lda = cross_val_score(lda, xdata, ydata, cv=5, scoring='precision_macro')\n",
        "print(\"Rata-rata nilai precision macro: %0.2f (+/- %0.2f)\" % (scores_precision_lda.mean(), scores_precision_lda.std()))\n",
        "\n",
        "scores_recall_lda = cross_val_score(lda, xdata, ydata, cv=5, scoring='recall_macro')\n",
        "print(\"Rata-rata nilai recall macro: %0.2f (+/- %0.2f)\" % (scores_recall_lda.mean(), scores_recall_lda.std()))\n",
        "\n",
        "scores_f1_lda = cross_val_score(lda, xdata, ydata, cv=5, scoring='f1_macro')\n",
        "print(\"Rata-rata nilai f1 macro: %0.2f (+/- %0.2f)\" % (scores_f1_lda.mean(), scores_f1_lda.std()))\n",
        "\n",
        "#KNN\n",
        "print(\"\\nKNN\")\n",
        "scores_accuracy_KNN = cross_val_score(KNN, xdata, ydata, cv=5, scoring='accuracy')\n",
        "print(\"Rata-rata nilai akurasi: %0.2f (+/- %0.2f)\" % (scores_accuracy_KNN.mean(), scores_accuracy_KNN.std()))\n",
        "\n",
        "scores_precision_KNN = cross_val_score(KNN, xdata, ydata, cv=5, scoring='precision_macro')\n",
        "print(\"Rata-rata nilai precision macro: %0.2f (+/- %0.2f)\" % (scores_precision_KNN.mean(), scores_precision_KNN.std()))\n",
        "\n",
        "scores_recall_KNN = cross_val_score(KNN, xdata, ydata, cv=5, scoring='recall_macro')\n",
        "print(\"Rata-rata nilai recall macro: %0.2f (+/- %0.2f)\" % (scores_recall_KNN.mean(), scores_recall_KNN.std()))\n",
        "\n",
        "scores_f1_KNN = cross_val_score(KNN, xdata, ydata, cv=5, scoring='f1_macro')\n",
        "print(\"Rata-rata nilai f1 macro: %0.2f (+/- %0.2f)\" % (scores_f1_KNN.mean(), scores_f1_KNN.std()))"
      ],
      "execution_count": 15,
      "outputs": [
        {
          "output_type": "stream",
          "text": [
            "CLF\n",
            "Rata-rata nilai akurasi: 0.74 (+/- 0.09)\n",
            "Rata-rata nilai precision macro: 0.76 (+/- 0.03)\n",
            "Rata-rata nilai recall macro: 0.71 (+/- 0.10)\n",
            "Rata-rata nilai f1 macro: 0.70 (+/- 0.13)\n",
            "\n",
            "GNB\n",
            "Rata-rata nilai akurasi: 0.80 (+/- 0.03)\n",
            "Rata-rata nilai precision macro: 0.79 (+/- 0.03)\n",
            "Rata-rata nilai recall macro: 0.78 (+/- 0.03)\n",
            "Rata-rata nilai f1 macro: 0.78 (+/- 0.03)\n",
            "\n",
            "LDA\n",
            "Rata-rata nilai akurasi: 0.79 (+/- 0.02)\n",
            "Rata-rata nilai precision macro: 0.79 (+/- 0.02)\n",
            "Rata-rata nilai recall macro: 0.77 (+/- 0.02)\n",
            "Rata-rata nilai f1 macro: 0.78 (+/- 0.02)\n",
            "\n",
            "KNN\n",
            "Rata-rata nilai akurasi: 0.54 (+/- 0.09)\n",
            "Rata-rata nilai precision macro: 0.58 (+/- 0.11)\n",
            "Rata-rata nilai recall macro: 0.51 (+/- 0.03)\n",
            "Rata-rata nilai f1 macro: 0.46 (+/- 0.03)\n"
          ],
          "name": "stdout"
        }
      ]
    },
    {
      "cell_type": "code",
      "metadata": {
        "id": "ZJAgxKCw23wq"
      },
      "source": [
        ""
      ],
      "execution_count": null,
      "outputs": []
    }
  ]
}